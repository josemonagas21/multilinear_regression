{
 "cells": [
  {
   "cell_type": "code",
   "execution_count": 1,
   "id": "7b043a8b",
   "metadata": {},
   "outputs": [],
   "source": [
    "# Import libraries \n",
    "import pandas as pd\n",
    "import numpy as np\n",
    "from sklearn.model_selection import train_test_split\n",
    "from sklearn.linear_model import LinearRegression\n",
    "from sklearn.metrics import mean_squared_error, r2_score"
   ]
  },
  {
   "cell_type": "code",
   "execution_count": 6,
   "id": "e36a3503",
   "metadata": {},
   "outputs": [],
   "source": [
    "# Load and read dataset \n",
    "data = pd.read_excel(\"dataset.xlsx\")"
   ]
  },
  {
   "cell_type": "code",
   "execution_count": 7,
   "id": "19e3342f",
   "metadata": {
    "scrolled": true
   },
   "outputs": [
    {
     "data": {
      "text/html": [
       "<div>\n",
       "<style scoped>\n",
       "    .dataframe tbody tr th:only-of-type {\n",
       "        vertical-align: middle;\n",
       "    }\n",
       "\n",
       "    .dataframe tbody tr th {\n",
       "        vertical-align: top;\n",
       "    }\n",
       "\n",
       "    .dataframe thead th {\n",
       "        text-align: right;\n",
       "    }\n",
       "</style>\n",
       "<table border=\"1\" class=\"dataframe\">\n",
       "  <thead>\n",
       "    <tr style=\"text-align: right;\">\n",
       "      <th></th>\n",
       "      <th>week_end</th>\n",
       "      <th>Page_Title</th>\n",
       "      <th>PClicks</th>\n",
       "      <th>Transactions</th>\n",
       "      <th>Affiliate_Earnings</th>\n",
       "      <th>EPC</th>\n",
       "      <th>Search_Clicks</th>\n",
       "      <th>Direct_Clicks</th>\n",
       "      <th>NYT_Homepage_Clicks</th>\n",
       "      <th>NYT_Referral_Clicks</th>\n",
       "      <th>External_Referral_Clicks</th>\n",
       "      <th>WC_Email_Clicks</th>\n",
       "      <th>WC_Social_Clicks</th>\n",
       "      <th>SUM channel clicks</th>\n",
       "    </tr>\n",
       "  </thead>\n",
       "  <tbody>\n",
       "    <tr>\n",
       "      <th>0</th>\n",
       "      <td>2022-01-02</td>\n",
       "      <td>Where to Buy N95s, KN95s, and Surgical-Style M...</td>\n",
       "      <td>143954</td>\n",
       "      <td>21026.0</td>\n",
       "      <td>65056.66560</td>\n",
       "      <td>0.451927</td>\n",
       "      <td>95297</td>\n",
       "      <td>14860</td>\n",
       "      <td>5265</td>\n",
       "      <td>18025</td>\n",
       "      <td>5857</td>\n",
       "      <td>1431</td>\n",
       "      <td>3204</td>\n",
       "      <td>143939</td>\n",
       "    </tr>\n",
       "    <tr>\n",
       "      <th>1</th>\n",
       "      <td>2022-01-02</td>\n",
       "      <td>The Best Multi-Tool</td>\n",
       "      <td>38003</td>\n",
       "      <td>1613.0</td>\n",
       "      <td>3671.57231</td>\n",
       "      <td>0.096613</td>\n",
       "      <td>2685</td>\n",
       "      <td>1230</td>\n",
       "      <td>33628</td>\n",
       "      <td>181</td>\n",
       "      <td>10</td>\n",
       "      <td>24</td>\n",
       "      <td>238</td>\n",
       "      <td>37996</td>\n",
       "    </tr>\n",
       "    <tr>\n",
       "      <th>2</th>\n",
       "      <td>2022-01-02</td>\n",
       "      <td>The Best Air Purifier</td>\n",
       "      <td>36690</td>\n",
       "      <td>3956.0</td>\n",
       "      <td>50357.52000</td>\n",
       "      <td>1.372513</td>\n",
       "      <td>30048</td>\n",
       "      <td>3487</td>\n",
       "      <td>1331</td>\n",
       "      <td>737</td>\n",
       "      <td>255</td>\n",
       "      <td>521</td>\n",
       "      <td>292</td>\n",
       "      <td>36671</td>\n",
       "    </tr>\n",
       "    <tr>\n",
       "      <th>3</th>\n",
       "      <td>2022-01-02</td>\n",
       "      <td>The Best Humidifier</td>\n",
       "      <td>35198</td>\n",
       "      <td>5004.0</td>\n",
       "      <td>37367.02000</td>\n",
       "      <td>1.061623</td>\n",
       "      <td>29172</td>\n",
       "      <td>2802</td>\n",
       "      <td>2305</td>\n",
       "      <td>127</td>\n",
       "      <td>62</td>\n",
       "      <td>554</td>\n",
       "      <td>159</td>\n",
       "      <td>35181</td>\n",
       "    </tr>\n",
       "    <tr>\n",
       "      <th>4</th>\n",
       "      <td>2022-01-02</td>\n",
       "      <td>The Best Showerhead</td>\n",
       "      <td>27629</td>\n",
       "      <td>1227.0</td>\n",
       "      <td>5519.92000</td>\n",
       "      <td>0.199787</td>\n",
       "      <td>4578</td>\n",
       "      <td>1226</td>\n",
       "      <td>21709</td>\n",
       "      <td>79</td>\n",
       "      <td>10</td>\n",
       "      <td>12</td>\n",
       "      <td>12</td>\n",
       "      <td>27626</td>\n",
       "    </tr>\n",
       "  </tbody>\n",
       "</table>\n",
       "</div>"
      ],
      "text/plain": [
       "    week_end                                         Page_Title  PClicks  \\\n",
       "0 2022-01-02  Where to Buy N95s, KN95s, and Surgical-Style M...   143954   \n",
       "1 2022-01-02                                The Best Multi-Tool    38003   \n",
       "2 2022-01-02                              The Best Air Purifier    36690   \n",
       "3 2022-01-02                                The Best Humidifier    35198   \n",
       "4 2022-01-02                                The Best Showerhead    27629   \n",
       "\n",
       "   Transactions  Affiliate_Earnings       EPC  Search_Clicks  Direct_Clicks  \\\n",
       "0       21026.0         65056.66560  0.451927          95297          14860   \n",
       "1        1613.0          3671.57231  0.096613           2685           1230   \n",
       "2        3956.0         50357.52000  1.372513          30048           3487   \n",
       "3        5004.0         37367.02000  1.061623          29172           2802   \n",
       "4        1227.0          5519.92000  0.199787           4578           1226   \n",
       "\n",
       "   NYT_Homepage_Clicks  NYT_Referral_Clicks  External_Referral_Clicks  \\\n",
       "0                 5265                18025                      5857   \n",
       "1                33628                  181                        10   \n",
       "2                 1331                  737                       255   \n",
       "3                 2305                  127                        62   \n",
       "4                21709                   79                        10   \n",
       "\n",
       "   WC_Email_Clicks  WC_Social_Clicks  SUM channel clicks  \n",
       "0             1431              3204              143939  \n",
       "1               24               238               37996  \n",
       "2              521               292               36671  \n",
       "3              554               159               35181  \n",
       "4               12                12               27626  "
      ]
     },
     "execution_count": 7,
     "metadata": {},
     "output_type": "execute_result"
    }
   ],
   "source": [
    "data.head()"
   ]
  },
  {
   "cell_type": "code",
   "execution_count": 14,
   "id": "71946270",
   "metadata": {},
   "outputs": [],
   "source": [
    "# Split the data into training and testing sets\n",
    "y = data[\"EPC\"]\n",
    "X = data[[\"Search_Clicks\", \"Direct_Clicks\", \"NYT_Homepage_Clicks\", \"NYT_Referral_Clicks\", \"External_Referral_Clicks\", \"WC_Email_Clicks\", \"WC_Social_Clicks\"]]"
   ]
  },
  {
   "cell_type": "code",
   "execution_count": 15,
   "id": "21f607b6",
   "metadata": {},
   "outputs": [],
   "source": [
    "X_train, X_test, y_train, y_test = train_test_split(X, y, test_size=0.2, random_state=42)\n"
   ]
  },
  {
   "cell_type": "code",
   "execution_count": 16,
   "id": "735c3c15",
   "metadata": {},
   "outputs": [
    {
     "data": {
      "text/plain": [
       "LinearRegression()"
      ]
     },
     "execution_count": 16,
     "metadata": {},
     "output_type": "execute_result"
    }
   ],
   "source": [
    "# fit the multiple linear regression model \n",
    "model = LinearRegression()\n",
    "model.fit(X_train, y_train)"
   ]
  },
  {
   "cell_type": "code",
   "execution_count": 17,
   "id": "0563c88f",
   "metadata": {},
   "outputs": [],
   "source": [
    "# Evaluate the model\n",
    "coefficients = model.coef_\n",
    "intercept = model.intercept_\n",
    "y_pred = model.predict(X_test)\n",
    "mse = mean_squared_error(y_test, y_pred)\n",
    "r2 = r2_score(y_test, y_pred)"
   ]
  },
  {
   "cell_type": "code",
   "execution_count": 20,
   "id": "7c113cd4",
   "metadata": {},
   "outputs": [
    {
     "name": "stdout",
     "output_type": "stream",
     "text": [
      "The coefficients are:\n",
      "Coefficients: [ 1.48452847e-05  2.71296257e-04 -2.39472642e-05 -3.15004632e-05\n",
      " -1.06382444e-03 -8.60668715e-05 -3.66619818e-04]\n",
      "Intercept: 0.5129238881653246\n",
      "Mean Squared Error: 0.7842718324576405\n",
      "R-squared: 0.0031209235719508177\n"
     ]
    }
   ],
   "source": [
    "print(f\"The coefficients are:\")\n",
    "print(\"Coefficients:\", coefficients)\n",
    "print(\"Intercept:\", intercept)\n",
    "print(\"Mean Squared Error:\", mse)\n",
    "print(\"R-squared:\", r2)"
   ]
  },
  {
   "cell_type": "code",
   "execution_count": null,
   "id": "6e017c38",
   "metadata": {},
   "outputs": [],
   "source": [
    "print(\"search clicks coefficient\", coefficients)"
   ]
  }
 ],
 "metadata": {
  "kernelspec": {
   "display_name": "Python 3 (ipykernel)",
   "language": "python",
   "name": "python3"
  },
  "language_info": {
   "codemirror_mode": {
    "name": "ipython",
    "version": 3
   },
   "file_extension": ".py",
   "mimetype": "text/x-python",
   "name": "python",
   "nbconvert_exporter": "python",
   "pygments_lexer": "ipython3",
   "version": "3.9.7"
  }
 },
 "nbformat": 4,
 "nbformat_minor": 5
}

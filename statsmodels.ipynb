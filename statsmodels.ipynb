{
 "cells": [
  {
   "cell_type": "code",
   "execution_count": 1,
   "id": "e4918eff",
   "metadata": {},
   "outputs": [
    {
     "name": "stdout",
     "output_type": "stream",
     "text": [
      "                            OLS Regression Results                            \n",
      "==============================================================================\n",
      "Dep. Variable:                    EPC   R-squared:                       0.006\n",
      "Model:                            OLS   Adj. R-squared:                  0.006\n",
      "Method:                 Least Squares   F-statistic:                     63.25\n",
      "Date:                Fri, 07 Jul 2023   Prob (F-statistic):           3.08e-91\n",
      "Time:                        10:16:07   Log-Likelihood:                -96663.\n",
      "No. Observations:               71495   AIC:                         1.933e+05\n",
      "Df Residuals:                   71487   BIC:                         1.934e+05\n",
      "Df Model:                           7                                         \n",
      "Covariance Type:            nonrobust                                         \n",
      "============================================================================================\n",
      "                               coef    std err          t      P>|t|      [0.025      0.975]\n",
      "--------------------------------------------------------------------------------------------\n",
      "const                        0.5156      0.004    133.710      0.000       0.508       0.523\n",
      "Search_Clicks             1.857e-05   3.81e-06      4.872      0.000    1.11e-05     2.6e-05\n",
      "Direct_Clicks                0.0002   2.68e-05      8.810      0.000       0.000       0.000\n",
      "NYT_Homepage_Clicks      -2.317e-05   2.75e-06     -8.411      0.000   -2.86e-05   -1.78e-05\n",
      "NYT_Referral_Clicks      -2.423e-05   5.04e-06     -4.804      0.000   -3.41e-05   -1.43e-05\n",
      "External_Referral_Clicks    -0.0009      0.000     -6.512      0.000      -0.001      -0.001\n",
      "WC_Email_Clicks          -8.984e-05    1.3e-05     -6.885      0.000      -0.000   -6.43e-05\n",
      "WC_Social_Clicks            -0.0005   8.83e-05     -6.149      0.000      -0.001      -0.000\n",
      "==============================================================================\n",
      "Omnibus:                   146704.941   Durbin-Watson:                   1.944\n",
      "Prob(Omnibus):                  0.000   Jarque-Bera (JB):       2855094390.431\n",
      "Skew:                          16.553   Prob(JB):                         0.00\n",
      "Kurtosis:                     981.430   Cond. No.                     2.88e+03\n",
      "==============================================================================\n",
      "\n",
      "Notes:\n",
      "[1] Standard Errors assume that the covariance matrix of the errors is correctly specified.\n",
      "[2] The condition number is large, 2.88e+03. This might indicate that there are\n",
      "strong multicollinearity or other numerical problems.\n"
     ]
    },
    {
     "name": "stderr",
     "output_type": "stream",
     "text": [
      "/Users/josemonagas/opt/anaconda3/lib/python3.9/site-packages/statsmodels/tsa/tsatools.py:142: FutureWarning: In a future version of pandas all arguments of concat except for the argument 'objs' will be keyword-only\n",
      "  x = pd.concat(x[::order], 1)\n"
     ]
    }
   ],
   "source": [
    "import pandas as pd\n",
    "import statsmodels.api as sm\n",
    "\n",
    "# Read the dataset and split into X and y\n",
    "data = pd.read_excel(\"dataset.xlsx\")\n",
    "y = data['EPC']\n",
    "X = data[['Search_Clicks', 'Direct_Clicks', 'NYT_Homepage_Clicks', 'NYT_Referral_Clicks', 'External_Referral_Clicks', 'WC_Email_Clicks', 'WC_Social_Clicks']]\n",
    "\n",
    "# Add constant column to X for intercept\n",
    "X = sm.add_constant(X)\n",
    "\n",
    "# Fit the multiple linear regression model\n",
    "model = sm.OLS(y, X)\n",
    "results = model.fit()\n",
    "\n",
    "# Print the summary statistics including p-values\n",
    "print(results.summary())\n"
   ]
  },
  {
   "cell_type": "code",
   "execution_count": null,
   "id": "2e3e84d6",
   "metadata": {},
   "outputs": [],
   "source": []
  }
 ],
 "metadata": {
  "kernelspec": {
   "display_name": "Python 3 (ipykernel)",
   "language": "python",
   "name": "python3"
  },
  "language_info": {
   "codemirror_mode": {
    "name": "ipython",
    "version": 3
   },
   "file_extension": ".py",
   "mimetype": "text/x-python",
   "name": "python",
   "nbconvert_exporter": "python",
   "pygments_lexer": "ipython3",
   "version": "3.9.7"
  }
 },
 "nbformat": 4,
 "nbformat_minor": 5
}

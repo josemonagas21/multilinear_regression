{
 "cells": [
  {
   "cell_type": "code",
   "execution_count": 3,
   "id": "5d9402c5",
   "metadata": {},
   "outputs": [
    {
     "name": "stdout",
     "output_type": "stream",
     "text": [
      "                            OLS Regression Results                            \n",
      "==============================================================================\n",
      "Dep. Variable:                    EPC   R-squared:                       0.006\n",
      "Model:                            OLS   Adj. R-squared:                  0.006\n",
      "Method:                 Least Squares   F-statistic:                     51.22\n",
      "Date:                Fri, 07 Jul 2023   Prob (F-statistic):           3.15e-73\n",
      "Time:                        12:22:14   Log-Likelihood:                -75698.\n",
      "No. Observations:               57196   AIC:                         1.514e+05\n",
      "Df Residuals:                   57188   BIC:                         1.515e+05\n",
      "Df Model:                           7                                         \n",
      "Covariance Type:            nonrobust                                         \n",
      "============================================================================================\n",
      "                               coef    std err          t      P>|t|      [0.025      0.975]\n",
      "--------------------------------------------------------------------------------------------\n",
      "const                        0.5086      0.004    121.370      0.000       0.500       0.517\n",
      "Search_Clicks             1.646e-05   4.02e-06      4.099      0.000    8.59e-06    2.43e-05\n",
      "Direct_Clicks                0.0002   2.85e-05      8.448      0.000       0.000       0.000\n",
      "NYT_Homepage_Clicks       -2.26e-05   2.82e-06     -8.015      0.000   -2.81e-05   -1.71e-05\n",
      "NYT_Referral_Clicks       -2.22e-05    5.1e-06     -4.352      0.000   -3.22e-05   -1.22e-05\n",
      "External_Referral_Clicks    -0.0008      0.000     -5.884      0.000      -0.001      -0.001\n",
      "WC_Email_Clicks          -9.375e-05   1.47e-05     -6.384      0.000      -0.000    -6.5e-05\n",
      "WC_Social_Clicks            -0.0006   9.91e-05     -5.989      0.000      -0.001      -0.000\n",
      "==============================================================================\n",
      "Omnibus:                   116192.947   Durbin-Watson:                   1.942\n",
      "Prob(Omnibus):                  0.000   Jarque-Bera (JB):       2914450094.802\n",
      "Skew:                          16.035   Prob(JB):                         0.00\n",
      "Kurtosis:                    1108.397   Cond. No.                     3.08e+03\n",
      "==============================================================================\n",
      "\n",
      "Notes:\n",
      "[1] Standard Errors assume that the covariance matrix of the errors is correctly specified.\n",
      "[2] The condition number is large, 3.08e+03. This might indicate that there are\n",
      "strong multicollinearity or other numerical problems.\n",
      "Significant Features:\n",
      "Search_Clicks               4.160729e-05\n",
      "Direct_Clicks               3.038207e-17\n",
      "NYT_Homepage_Clicks         1.118777e-15\n",
      "NYT_Referral_Clicks         1.351292e-05\n",
      "External_Referral_Clicks    4.038477e-09\n",
      "WC_Email_Clicks             1.735750e-10\n",
      "WC_Social_Clicks            2.127713e-09\n",
      "dtype: float64\n"
     ]
    },
    {
     "name": "stderr",
     "output_type": "stream",
     "text": [
      "/Users/josemonagas/opt/anaconda3/lib/python3.9/site-packages/statsmodels/tsa/tsatools.py:142: FutureWarning: In a future version of pandas all arguments of concat except for the argument 'objs' will be keyword-only\n",
      "  x = pd.concat(x[::order], 1)\n"
     ]
    },
    {
     "data": {
      "image/png": "[encoded data removed]",
      "text/plain": [
       "<Figure size 576x432 with 1 Axes>"
      ]
     },
     "metadata": {
      "needs_background": "light"
     },
     "output_type": "display_data"
    }
   ],
   "source": [
    "import pandas as pd\n",
    "import numpy as np\n",
    "import statsmodels.api as sm\n",
    "import seaborn as sns\n",
    "import matplotlib.pyplot as plt\n",
    "\n",
    "# Step 1: Prepare your dataset\n",
    "data = pd.read_excel(\"dataset.xlsx\")  \n",
    "\n",
    "# Step 2: Load and preprocess the data (if needed)\n",
    "# ...\n",
    "\n",
    "# Step 3: Split the data into training and testing sets\n",
    "y = data[\"EPC\"]\n",
    "X = data[[\"Search_Clicks\", \"Direct_Clicks\", \"NYT_Homepage_Clicks\", \"NYT_Referral_Clicks\", \"External_Referral_Clicks\", \"WC_Email_Clicks\", \"WC_Social_Clicks\"]]\n",
    "# Split the data into training and testing sets (80% training, 20% testing)\n",
    "train_size = int(0.8 * len(data))\n",
    "X_train, X_test = X[:train_size], X[train_size:]\n",
    "y_train, y_test = y[:train_size], y[train_size:]\n",
    "\n",
    "# Step 4: Fit the multiple linear regression model\n",
    "X_train = sm.add_constant(X_train)  # Add a constant term for the intercept\n",
    "model = sm.OLS(y_train, X_train)\n",
    "results = model.fit()\n",
    "\n",
    "# Step 5: Evaluate the model\n",
    "print(results.summary())  # Print the summary of the regression results\n",
    "\n",
    "# Step 6: Calculate p-values\n",
    "p_values = results.pvalues[1:]  # Exclude the constant term\n",
    "significant_features = p_values[p_values < 0.05]  # Select features with p-values < 0.05\n",
    "\n",
    "# Step 7: Interpret the results\n",
    "print(\"Significant Features:\")\n",
    "print(significant_features)\n",
    "\n",
    "# Step 8: Visualize the results\n",
    "# Create a scatter plot of predicted values vs. actual values\n",
    "X_test = sm.add_constant(X_test)  # Add a constant term for the intercept in the test set\n",
    "y_pred = results.predict(X_test)\n",
    "plt.figure(figsize=(8, 6))  # Adjust the dimensions as needed\n",
    "\n",
    "plt.scatter(y_test, y_pred)\n",
    "plt.xlabel(\"Actual Earnings per Click\")\n",
    "plt.ylabel(\"Predicted Earnings per Click\")\n",
    "plt.title(\"Scatter Plot of Actual vs. Predicted Earnings per Click\")\n",
    "\n",
    "# Save the chart\n",
    "plt.savefig(\"scatter_plot.png\", dpi=300)  # Specify the file name and dpi (dots per inch)\n",
    "\n",
    "plt.show()\n"
   ]
  },
  {
   "cell_type": "code",
   "execution_count": null,
   "id": "439b43e4",
   "metadata": {},
   "outputs": [],
   "source": []
  }
 ],
 "metadata": {
  "kernelspec": {
   "display_name": "Python 3 (ipykernel)",
   "language": "python",
   "name": "python3"
  },
  "language_info": {
   "codemirror_mode": {
    "name": "ipython",
    "version": 3
   },
   "file_extension": ".py",
   "mimetype": "text/x-python",
   "name": "python",
   "nbconvert_exporter": "python",
   "pygments_lexer": "ipython3",
   "version": "3.9.7"
  }
 },
 "nbformat": 4,
 "nbformat_minor": 5
}
